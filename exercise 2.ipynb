{
 "cells": [
  {
   "cell_type": "markdown",
   "metadata": {},
   "source": [
    "#1"
   ]
  },
  {
   "cell_type": "code",
   "execution_count": 15,
   "metadata": {},
   "outputs": [
    {
     "name": "stdout",
     "output_type": "stream",
     "text": [
      "Even numbers are: [6, 8, 10]\n",
      "Odd numbers are: [5, 7, 9]\n"
     ]
    }
   ],
   "source": [
    "lower = int(input(\"Enter lower bound: \"))\n",
    "\n",
    "even_numbers = []\n",
    "odd_numbers = []\n",
    "\n",
    "while lower < 0:\n",
    "    print(\"Lower bound is too small\")\n",
    "    lower = int(input(print(\"Re-enter lower bound: \")))\n",
    "else:\n",
    "    upper = int(input(\"Enter upper bound: \"))\n",
    "    for i in range(lower,upper + 1):\n",
    "        if i % 2 == 0:\n",
    "            even_numbers.append(i)\n",
    "        else:\n",
    "            odd_numbers.append(i)\n",
    "\n",
    "print(f\"Even numbers are: {even_numbers}\")\n",
    "print(f\"Odd numbers are: {odd_numbers}\")\n",
    "\n"
   ]
  },
  {
   "cell_type": "markdown",
   "metadata": {},
   "source": [
    "#2"
   ]
  },
  {
   "cell_type": "code",
   "execution_count": 20,
   "metadata": {},
   "outputs": [
    {
     "name": "stdout",
     "output_type": "stream",
     "text": [
      "1\n",
      "22\n",
      "333\n",
      "4444\n",
      "55555\n"
     ]
    }
   ],
   "source": [
    "pyramid = int(input(\"Enter height of pyramid: \"))\n",
    "\n",
    "for i in range(1, pyramid + 1):\n",
    "    print(str(i)*i)"
   ]
  }
 ],
 "metadata": {
  "kernelspec": {
   "display_name": "Python 3.9.12 ('base')",
   "language": "python",
   "name": "python3"
  },
  "language_info": {
   "codemirror_mode": {
    "name": "ipython",
    "version": 3
   },
   "file_extension": ".py",
   "mimetype": "text/x-python",
   "name": "python",
   "nbconvert_exporter": "python",
   "pygments_lexer": "ipython3",
   "version": "3.9.12"
  },
  "orig_nbformat": 4,
  "vscode": {
   "interpreter": {
    "hash": "f4c55944eaff71866b0ae581bc95f3eb232977744a44432b12a2f9312dc36f95"
   }
  }
 },
 "nbformat": 4,
 "nbformat_minor": 2
}
